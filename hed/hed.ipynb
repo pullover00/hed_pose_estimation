{
 "cells": [
  {
   "cell_type": "code",
   "execution_count": null,
   "metadata": {},
   "outputs": [],
   "source": [
    "import numpy as np\n",
    "import cv2 as cv\n",
    "from matplotlib import pyplot as plt\n",
    "import os\n",
    "from scipy import ndimage, misc\n",
    "import imageio\n",
    "\n",
    "def main():\n",
    "    path= \"/home/tessa/programming/canny_edge_detection/subset_cleargrasp/\"\n",
    "    outPath = \"/home/tessa/programming/canny_edge_detection/subset_cleargrasp_brad/\"\n",
    "\n",
    "    # iterate through names of contents of the folder:\n",
    "    for image_path in os.listdir(path):\n",
    "\n",
    "        # create input path and read file\n",
    "        input_path = os.path.join(path, image_path)\n",
    "\n",
    "        # apply canny filters\n",
    "        img = cv.imread((input_path), cv.IMREAD_GRAYSCALE)\n",
    "    \n",
    "\n",
    "        # show images\n",
    "        plt.subplot(121),plt.imshow(img,cmap = 'gray')\n",
    "        plt.title('Original Image'), plt.xticks([]), plt.yticks([])\n",
    "        plt.subplot(122),plt.imshow(canny_img,cmap = 'gray')\n",
    "        plt.title('Edge Image'), plt.xticks([]), plt.yticks([])\n",
    "        plt.show()\n",
    "        \n",
    "\n",
    "        # create output path and save image:\n",
    "        fullpath = os.path.join(outPath, 'canny_'+image_path)\n",
    "        imageio.imwrite(fullpath, canny_img)\n",
    "\n",
    "\n",
    "\n",
    "if __name__ == '__main__':\n",
    "    main()\n"
   ]
  }
 ],
 "metadata": {
  "language_info": {
   "name": "python"
  },
  "orig_nbformat": 4
 },
 "nbformat": 4,
 "nbformat_minor": 2
}
